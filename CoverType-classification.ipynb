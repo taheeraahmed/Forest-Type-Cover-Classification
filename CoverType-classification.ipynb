{
 "cells": [
  {
   "cell_type": "markdown",
   "metadata": {},
   "source": [
    "# Classification of cover types \n",
    "In this project there will be created a model using deep learning to predict forest cover type (the most common kind of tree cover) based only on cartographic variables. The actual forest cover type for a given 30 x 30 meter cell was determined from US Forest Service (USFS) Region 2 Resource Information System data. The cover types we are going to predict are the following:\n",
    "\n",
    "- Spruce/Fir\n",
    "- Lodgepole Pine\n",
    "- Ponderosa Pine\n",
    "- Cottonwood/Willow\n",
    "- Aspen\n",
    "- Douglas-fir\n",
    "- Krummholz\n",
    "\n",
    "The project will use a deeplearning model created with `Tensorflow` and `Keras`."
   ]
  },
  {
   "cell_type": "code",
   "execution_count": null,
   "metadata": {},
   "outputs": [],
   "source": [
    "import pandas as pd\n",
    "import numpy as np\n",
    "import matplotlib\n",
    "import matplotlib.pyplot as plt\n",
    "import seaborn as sns\n",
    "from collections import Counter\n",
    "\n",
    "import tensorflow as tf\n",
    "from tensorflow\timport keras\n",
    "from tensorflow.keras.models import Sequential\n",
    "from tensorflow.keras.callbacks import EarlyStopping\n",
    "from tensorflow.keras import layers\n",
    "from tensorflow.keras.layers import Dense, InputLayer\n",
    "from tensorflow.keras.optimizers import Adam\n",
    "from tensorflow.keras.utils import to_categorical\n",
    "\n",
    "import sklearn\n",
    "from sklearn.preprocessing import StandardScaler, LabelEncoder\n",
    "from sklearn.model_selection import train_test_split\n",
    "from sklearn.metrics import classification_report\n"
   ]
  },
  {
   "cell_type": "code",
   "execution_count": null,
   "metadata": {},
   "outputs": [],
   "source": [
    "print('Python: {}'.format(sys.version))  # Python version\n",
    "print('numpy: {}'.format(np.__version__))  # Numpy version\n",
    "print('pandas: {}'.format(pd.__version__))  # Pandas version\n",
    "print('matplotlib: {}'.format(matplotlib.__version__))  # Matplotlib version\n",
    "print('sklearn: {}'.format(sklearn.__version__))  # sklearn version\n",
    "print('tensorflow: {}'.format(tf.__version__))  # tensorflow\n",
    "print('seaborn: {}'.format(sns.__version__))  # seaborn"
   ]
  },
  {
   "cell_type": "markdown",
   "metadata": {},
   "source": [
    "# Exploration of the dataset\n",
    "\n"
   ]
  },
  {
   "cell_type": "code",
   "execution_count": null,
   "metadata": {},
   "outputs": [],
   "source": [
    "df = pd.read_csv('cover_data.csv')\n",
    "df.head(5)"
   ]
  },
  {
   "cell_type": "markdown",
   "metadata": {},
   "source": [
    "## Explanation of dataset\n",
    "\n",
    "In the dataset there are 55 columns, the last one `Class_type` is the label column (meaning the one we want to predict). The other 54 columns consists of both numerical and categorical attributes. Columns 0-10 are numerical, while 11-54 are categorical. Below one can see an explanation of the different columns. This information can be found at [Kaggle](https://www.kaggle.com/uciml/forest-cover-type-dataset)."
   ]
  },
  {
   "cell_type": "markdown",
   "metadata": {},
   "source": [
    "| Feature Name | Names |\n",
    "| ------------ | ----- |\n",
    "| Wilderness_Area1 | Rawah Wilderness Area |\n",
    "| Wilderness_Area2 | Neota Wilderness Area |\n",
    "| Wilderness_Area3 | Comanche Wilderness Area |\n",
    "| Wilderness_Area4 | Cache La Poudre Wilderness Area |\n",
    "| Soil_Type1 | Cathedral family - Rock outcrop complex, extremely stony |\n",
    "| Soil_Type2 | Vanet - Ratake families complex, very stony |\n",
    "| Soil_Type3 | Haploborolis - Rock outcrop complex, rubbly |\n",
    "| Soil_Type4 | Ratake family - Rock outcrop complex, rubbly |\n",
    "| Soil_Type5 | Vanet family - Rock outcrop complex, rubbly |\n",
    "| Soil_Type6 | Vanet - Wetmore families - Rock outcrop complex, stony |\n",
    "| Soil_Type7 | Gothic family |\n",
    "| Soil_Type8 | Supervisor - Limber families complex |\n",
    "| Soil_Type9 | Troutville family, very stony |\n",
    "| Soil_Type10 | Bullwark - Catamount families - Rock outcrop complex, rubbly |\n",
    "| Soil_Type11 | Bullwark - Catamount families - Rock land complex, rubbly |\n",
    "| Soil_Type12 | Legault family - Rock land complex, stony |\n",
    "| Soil_Type13 | Catamount family - Rock land - Bullwark family complex, rubbly |\n",
    "| Soil_Type14 | Pachic Argiborolis - Aquolis complex |\n",
    "| Soil_Type15 | _unspecified in the USFS Soil and ELU Survey_ |\n",
    "| Soil_Type16 | Cryaquolis - Cryoborolis complex |\n",
    "| Soil_Type17 | Gateview family - Cryaquolis complex |\n",
    "| Soil_Type18 | Rogert family, very stony |\n",
    "| Soil_Type19 | Typic Cryaquolis - Borohemists complex |\n",
    "| Soil_Type20 | Typic Cryaquepts - Typic Cryaquolls complex |\n",
    "| Soil_Type21 | Typic Cryaquolls - Leighcan family, till substratum complex |\n",
    "| Soil_Type22 | Leighcan family, till substratum, extremely bouldery |\n",
    "| Soil_Type23 | Leighcan family, till substratum, - Typic Cryaquolls complex. |\n",
    "| Soil_Type24 | Leighcan family, extremely stony |\n",
    "| Soil_Type25 | Leighcan family, warm, extremely stony |\n",
    "| Soil_Type26 | Granile - Catamount families complex, very stony |\n",
    "| Soil_Type27 | Leighcan family, warm - Rock outcrop complex, extremely stony |\n",
    "| Soil_Type28 | Leighcan family - Rock outcrop complex, extremely stony |\n",
    "| Soil_Type29 | Como - Legault families complex, extremely stony |\n",
    "| Soil_Type30 | Como family - Rock land - Legault family complex, extremely stony |\n",
    "| Soil_Type31 | Leighcan - Catamount families complex, extremely stony |\n",
    "| Soil_Type32 | Catamount family - Rock outcrop - Leighcan family complex, extremely stony |\n",
    "| Soil_Type33 | Leighcan - Catamount families - Rock outcrop complex, extremely stony |\n",
    "| Soil_Type34 | Cryorthents - Rock land complex, extremely stony |\n",
    "| Soil_Type35 | Cryumbrepts - Rock outcrop - Cryaquepts complex |\n",
    "| Soil_Type36 | Bross family - Rock land - Cryumbrepts complex, extremely stony |\n",
    "| Soil_Type37 | Rock outcrop - Cryumbrepts - Cryorthents complex, extremely stony |\n",
    "| Soil_Type38 | Leighcan - Moran families - Cryaquolls complex, extremely stony |\n",
    "| Soil_Type39 | Moran family - Cryorthents - Leighcan family complex, extremely stony |\n",
    "| Soil_Type40 | Moran family - Cryorthents - Rock land complex, extremely stony |\n"
   ]
  },
  {
   "cell_type": "code",
   "execution_count": null,
   "metadata": {},
   "outputs": [],
   "source": [
    "x, y = df.shape\n",
    "print('We have ', x, ' number of observations and ', y-1, ' features for this dataset to predict type of forest cover.')\n",
    "\n",
    "dict_count = Counter(df['class'])\n",
    "\n",
    "for x in dict_count :\n",
    "    print(f\"Cover type {x} has {dict_count[x]} rows in data set\")\n",
    "print(f\"This means there are {len(dict_count)} classes to predict\")\n"
   ]
  },
  {
   "cell_type": "markdown",
   "metadata": {},
   "source": [
    "The classes/cover types has these keys:\n",
    "\n",
    "| Key | Name                 |  Count |\n",
    "|-----|----------------------|--------|\n",
    "| 1   | Spruce / Fir         | 211840 |\n",
    "| 2   | Lodgepole Pine       | 283301 |\n",
    "| 3   | Ponderosa Pine       |  35754 |\n",
    "| 4   | Cottonwood / Willow  |  2747  |\n",
    "| 5   | Aspen                |  9493  |\n",
    "| 6   | Douglas-fir          | 17367  |\n",
    "| 7   | Krummholz            | 20510  |"
   ]
  },
  {
   "cell_type": "markdown",
   "metadata": {},
   "source": [
    "Now, lets look even more closely at the dataset"
   ]
  },
  {
   "cell_type": "code",
   "execution_count": null,
   "metadata": {},
   "outputs": [],
   "source": [
    "df.info()"
   ]
  },
  {
   "cell_type": "markdown",
   "metadata": {},
   "source": [
    "By looking at the table we see that all rows are numeric integers, so there is no need for converstions. We can also notice that every row has a non-null value."
   ]
  },
  {
   "cell_type": "markdown",
   "metadata": {},
   "source": [
    "## Observations"
   ]
  },
  {
   "cell_type": "markdown",
   "metadata": {},
   "source": [
    "### Numerical features"
   ]
  },
  {
   "cell_type": "code",
   "execution_count": null,
   "metadata": {},
   "outputs": [],
   "source": [
    "numerical_features = df.iloc[:, :10]\n",
    "numerical_features.describe()"
   ]
  },
  {
   "cell_type": "markdown",
   "metadata": {},
   "source": [
    "- Mean: By looking at the mean value we see that it varies from column `Slope` at value 14  and all the way up to 2959 which belongs to `Elevation`. \n",
    "- Standard deviation: Describes how much each column deviates from its mean, so basically how much the data varies for a given column. The most spread out column is `Horizontal_Distance_To_Roadways`. The most dense column is `Slope`.\n",
    "- Min: All of the attributes has a minimum value of 0, except from `Elevation` and `Vertical_Distance_To_Hydrology`. \n",
    "\n",
    "We can also see that the only numerical columns are: `Elevation`, `Aspect`, `Slop`, `Horizontal_Distance_To_Roadways`, `Vertical_Distance_To_Hydrology`, `Hillside_9am`, `Hillshade_Noon`, `Hillshade_3pm`,\t`Horizontal_Distance_To_Fire_Points`. Meaning the 10 first columns in the data set. We can plot the numerical spread of these features. The rest of the columns are categorical. \n"
   ]
  },
  {
   "cell_type": "code",
   "execution_count": null,
   "metadata": {},
   "outputs": [],
   "source": [
    "plt = matplotlib.pyplot\n",
    "\n",
    "# plot bg\n",
    "sns.set_style(\"whitegrid\")\n",
    "\n",
    "#Size of the plot\n",
    "plt.subplots(figsize=(21, 14))\n",
    "\n",
    "# setting color of the plot\n",
    "color = sns.color_palette('pastel')\n",
    "\n",
    "# Using seaborn to plot it horizontally with 'color'\n",
    "sns.boxplot(data = numerical_features, orient='h', palette=color)\n",
    "\n",
    "# Title of the graph\n",
    "plt.title('Spread of data in Numerical Features', size = 20)\n",
    "\n",
    "# Horizontal axis Label\n",
    "plt.xlabel('Observations', size = 17)\n",
    "# Vertical axis Label\n",
    "plt.ylabel('Features', size = 17)\n",
    "\n",
    "# x-axis label size\n",
    "plt.xticks(size = 17)\n",
    "#y-axis label size\n",
    "plt.yticks(size = 15)\n",
    "\n",
    "# display plot\n",
    "plt.show()"
   ]
  },
  {
   "cell_type": "markdown",
   "metadata": {},
   "source": [
    "### Categorical features\n",
    "\n",
    "There are two types of categorical features: \n",
    "- `Wilderness_AreaX` \n",
    "- `Soil_typeX`\n",
    "\n",
    "In this section there will be a description of these two features. "
   ]
  },
  {
   "cell_type": "code",
   "execution_count": null,
   "metadata": {},
   "outputs": [],
   "source": [
    "categorical_features = df.iloc[:, 10:-1]\n",
    "\n",
    "# Splitting the features \n",
    "wild_df, soil_df = categorical_features.iloc[:,:4], categorical_features.iloc[:,4:]\n",
    "# Describing the categorical features\n",
    "categorical_features.describe()"
   ]
  },
  {
   "cell_type": "code",
   "execution_count": null,
   "metadata": {},
   "outputs": [],
   "source": [
    "sns.set_style({'grid.color': 'white'})\n",
    "\n",
    "\n",
    "# Sum the data, plot bar with given size using color defined\n",
    "wild_df.sum().plot(kind='bar', figsize=(10, 8), color='#A40E4C')\n",
    "\n",
    "# Title of the graph\n",
    "plt.title('No. of observations of Wilderness Areas', size = 20)\n",
    "\n",
    "# Horizontal axis Label\n",
    "plt.xlabel('Wilderness Areas', size = 17)\n",
    "# Vertical axis Label\n",
    "plt.ylabel('No.of Observation', size = 17)\n",
    "\n",
    "# x-axis label size, setting label rotations\n",
    "plt.xticks(rotation = 'horizontal', size = 14)\n",
    "# y-axis label size\n",
    "plt.yticks(size = 14)\n",
    "\n",
    "# removing the top and right axes spines, which are not needed\n",
    "sns.despine()\n",
    "\n",
    "# display plot\n",
    "plt.show()"
   ]
  },
  {
   "cell_type": "markdown",
   "metadata": {},
   "source": [
    "As one can see most of the data belongs to `Wilderness_Area1` and `Wilderness_Area3`"
   ]
  },
  {
   "cell_type": "code",
   "execution_count": null,
   "metadata": {},
   "outputs": [],
   "source": [
    "# Background style\n",
    "sns.set_style({'grid.color': 'white'})\n",
    "\n",
    "# Sum the data, plot horizontal bar with given size using color defined\n",
    "soil_df.sum().plot(kind='bar', figsize=(24, 12), color='#A40E4C')\n",
    "\n",
    "# Title of the graph\n",
    "plt.title('No. of observations of Soil Types', size = 20)\n",
    "\n",
    "# Horizontal axis Label\n",
    "plt.xlabel('Soil Types', size = 20)\n",
    "# Vertical axis Label\n",
    "plt.ylabel('Observations', size = 20)\n",
    "\n",
    "# X-axis label size, setting label rotations\n",
    "plt.xticks(rotation = 90, size = 15)\n",
    "# Y-axis label size\n",
    "plt.yticks(size = 15)\n",
    "\n",
    "# Display plot\n",
    "plt.show()"
   ]
  },
  {
   "cell_type": "markdown",
   "metadata": {},
   "source": [
    "Here most of the rows in the columns has the `Soil_Type29`. Which is Como - Legault families complex, extremely stony."
   ]
  },
  {
   "cell_type": "code",
   "execution_count": null,
   "metadata": {},
   "outputs": [],
   "source": [
    "# Grid color\n",
    "sns.set_style({'grid.color': 'white'})\n",
    "\n",
    "# Sum soil_df values, and pass it as a series \n",
    "soil_sum = pd.Series(soil_df.sum())\n",
    "\n",
    "# Sort the values in descending order\n",
    "soil_sum.sort_values(ascending = False, inplace = True)\n",
    "\n",
    "# Plot horizontal bar with given size using color defined\n",
    "soil_sum.plot(kind='barh', figsize=(23, 17), color= '#A40E4C')\n",
    "\n",
    "# Horizontal bar flips columns in ascending order, this will filp it back in descending order\n",
    "plt.gca().invert_yaxis()\n",
    "\n",
    "# Title of the graph\n",
    "plt.title('No. of observations of Soil Types', size = 20)\n",
    "\n",
    "# Horizontal axis Label\n",
    "plt.xlabel('No.of Observation', size = 17)\n",
    "# Vertical axis Label\n",
    "plt.ylabel('Soil Types', size = 17)\n",
    "\n",
    "# X-axis label\n",
    "plt.xticks(rotation = 'horizontal', size = 15)\n",
    "# Y-axis label \n",
    "plt.yticks(size = 16)\n",
    "\n",
    "# Display plot\n",
    "plt.show()"
   ]
  },
  {
   "cell_type": "markdown",
   "metadata": {},
   "source": [
    "The `Soil_Type15` has the fewest numbers of observations, while the most observed is `Soil_Type29`\n"
   ]
  },
  {
   "cell_type": "markdown",
   "metadata": {},
   "source": [
    "## Violin plots\n",
    "Here I will be comparing each feature in the data to the target variable. This will visualize the density and the distribution of each target variable's class in comparison to each feature. I will begin with the numerical features\n"
   ]
  },
  {
   "cell_type": "code",
   "execution_count": null,
   "metadata": {},
   "outputs": [],
   "source": [
    "numerical_cols = numerical_features.columns\n",
    "target = df['class']"
   ]
  },
  {
   "cell_type": "code",
   "execution_count": null,
   "metadata": {},
   "outputs": [],
   "source": [
    "def violinPlot(column,data,features):\n",
    "    #figure size\n",
    "    plt.subplots(figsize=(16, 11))\n",
    "    \n",
    "    # Plot violin for column\n",
    "    sns.violinplot(data=data, x=target, y = features[column])\n",
    "    \n",
    "    # x-axis label size\n",
    "    plt.xticks(size = 15)\n",
    "    # y-axis label size\n",
    "    plt.yticks(size = 16)\n",
    "\n",
    "    # Horizontal axis Label\n",
    "    plt.xlabel('Forest Cover Types', size = 17)\n",
    "    # Vertical axis Label\n",
    "    plt.ylabel(features[column], size = 17)\n",
    "  \n",
    "    # display plot\n",
    "    plt.show()"
   ]
  },
  {
   "cell_type": "markdown",
   "metadata": {},
   "source": [
    "### Numerical features"
   ]
  },
  {
   "cell_type": "code",
   "execution_count": null,
   "metadata": {},
   "outputs": [],
   "source": [
    "for i in range(len(features)):\n",
    "    violinPlot(i, numerical_features,numerical_cols)"
   ]
  },
  {
   "cell_type": "markdown",
   "metadata": {},
   "source": [
    "There is a lot of information given from each plot: \n",
    "1. `Elevation` - takes on a wide range of values and classes. All of the classes are covered by the elevations. Most of the elevations between 2000m - 2500m belongs to class 3. Class 7 takes on the maximum value of ~4000m. One can also see that most of the highest elevations belongs to class 7. Class 7 has a broad range of elevations from roughly ~2700m to ~4000m.\n",
    "2. `Aspect` has a normal distributions for each given class.\n",
    "3. `Slope` is the features which takes on the fewest values and is measured in degrees. \n",
    "4. `Horizontal_distance_To_Hydrology` all values will have a range between 0m - 50m.\n",
    "5. `Vertical_distance_To_Hydrology` all the values varies from ~ -150m to 600m. This feature has the lowest minimum of all the features which belongs to class 2. This means that class 2 has the widest range of observations. \n"
   ]
  },
  {
   "cell_type": "markdown",
   "metadata": {},
   "source": [
    "### Categorical features"
   ]
  },
  {
   "cell_type": "code",
   "execution_count": null,
   "metadata": {},
   "outputs": [],
   "source": [
    "wild_data_cols = wild_df.columns\n",
    "\n",
    "for i in range(0, len(wild_data_cols)):\n",
    "    violinPlot(i, wild_df,wild_data_cols)\n"
   ]
  },
  {
   "cell_type": "markdown",
   "metadata": {},
   "source": [
    "These plots looks quite different because the data only contains values of 0 and 1. \n",
    "By looking at the plots one can see: \n",
    "1. `Wilderness_Area1` either belongs to `Cover_Type` 1,2, 5 and 7. \n",
    "2. `Wilderness_Area3` is present in all `Cover_Type` but not in type 3. \n",
    "3. `Wilderness_Area2` has less observations and shows less density on 1. \n",
    "4. `Wilderness_Area4` also has few observations and is more dense at 0.\n"
   ]
  },
  {
   "cell_type": "markdown",
   "metadata": {},
   "source": [
    "## Correlation\n",
    "\n",
    "Lets try to find out how correlated the data is. In this section the categorical features will be ignored (because correleation doesn't work that well with non-contionus data :) )"
   ]
  },
  {
   "cell_type": "code",
   "execution_count": null,
   "metadata": {},
   "outputs": [],
   "source": [
    "plt.subplots(figsize=(15, 10))\n",
    "\n",
    "# Compute the correlation matrix\n",
    "numerical_features_corr = numerical_features.corr()\n",
    "\n",
    "mask = np.zeros_like(numerical_features_corr, dtype=np.bool)\n",
    "mask[np.triu_indices_from(mask)] = True\n",
    "\n",
    "\n",
    "# Generates heatmap masking the upper triangle and shrinking the cbar\n",
    "sns.heatmap(numerical_features_corr, mask=mask, center=0, square=True, annot=True, annot_kws={\"size\": 15}, cbar_kws={\"shrink\": .8})\n",
    "\n",
    "# x-axis label size\n",
    "plt.xticks(size = 13)\n",
    "# y-axis label size\n",
    "plt.yticks(size = 13)\n",
    "\n",
    "# display plot\n",
    "plt.show()\n"
   ]
  },
  {
   "cell_type": "markdown",
   "metadata": {},
   "source": [
    "Explanation of the colors:\n",
    "- The features which are colored black have less or no correlation.\n",
    "- The boxes which are colored orange have high and positive correlation\n",
    "- The blue boxes has negative correlation\n",
    "\n",
    "The less the values are correleated the more valuable information does the feature have to tell our model. Therefore these features are important for the predictions made by the model. \n",
    "\n",
    "Observations: \n",
    "- `Hillside_noon` and `Hillshade_3pm`,  `Hillshade_3pm` and `Aspect` and `Vertical_Distance_To_Hydrololgy` and `Horizontal_Distance_To_Hydrololgy` are highly correleated. \n",
    "\n",
    "Now we can plot the correlations which are higher than 0.5. "
   ]
  },
  {
   "cell_type": "code",
   "execution_count": null,
   "metadata": {},
   "outputs": [],
   "source": [
    "# plot bg\n",
    "sns.set_style(\"darkgrid\", {'grid.color': '.1'})\n",
    "\n",
    "# giving list of lists\n",
    "# inner lists conatains pairs of feature which have high correlation\n",
    "list_df_corr = [['Aspect','Hillshade_3pm'], ['Aspect', 'Hillshade_9am'], ['Slope', 'Hillshade_Noon'], ['Horizontal_Distance_To_Hydrology', 'Vertical_Distance_To_Hydrology'], \n",
    "                 ['Hillshade_3pm', 'Hillshade_9am'], ['Hillshade_3pm', 'Hillshade_Noon']]\n",
    "\n",
    "\n",
    "# Looping through outer list\n",
    "# taking 2 features from inner list\n",
    "for i,j in list_df_corr:\n",
    "    \n",
    "    # fig size\n",
    "    plt.subplots(figsize=(15, 12))\n",
    "    \n",
    "    #plot 1 feature on x axis and other on y axis, each point shows which cover forest they belong to\n",
    "    sns.scatterplot(data = df, x = i, y = j, hue=\"class\", legend = 'full', palette='pastel')\n",
    "\n",
    "    # x-axis label size\n",
    "    plt.xticks(size = 15)\n",
    "    # y-axis label size\n",
    "    plt.yticks(size = 15)\n",
    "\n",
    "    # Horizontal axis Label\n",
    "    plt.xlabel(i, size = 17)\n",
    "    # Vertical axis Label\n",
    "    plt.ylabel(j, size = 17)\n",
    "  \n",
    "    # display plot\n",
    "    plt.show()"
   ]
  },
  {
   "cell_type": "markdown",
   "metadata": {},
   "source": [
    "- `Hillshade_3pm` and `Aspect`: has the same relationship has a sigmoid function. \n",
    "- `Hillshade_9am` and `Aspect`: In the interval of `Aspect` ranging from 50 - 250 and `Hillshade_9am` between 100 - 250 most of the cover type belongs to class 3.\n",
    "- `Hillshade_Noon` and `Slope`: When `Slope` has the value between 0-30 most of the cover types belongs to class 3, regardless of what the `Hillside_Noon` value is. While higher slope values mostly belongs to classes 1, 5 and 7. \n",
    "- `Vertical_Distance_To_Hydrology` and `Horizontal_Distance_To_Hydrology`  This pattern just looks dope. \n",
    "- `Hillshade_3pm` and `Hillshade_9am`: This has the shape of a quarter of a circle, where most of the points along the border is of the cover type 3.\n",
    "- `Hillshade_Noon` and `Hillshade_3pm`:  This almost has the same shape as above and here also most of the points along the border is of cover type 3."
   ]
  },
  {
   "cell_type": "markdown",
   "metadata": {},
   "source": [
    "# Preprocessing the data"
   ]
  },
  {
   "cell_type": "code",
   "execution_count": 16,
   "metadata": {},
   "outputs": [],
   "source": [
    "X = df.iloc[:,0:-1]\n",
    "y = df.iloc[:,-1]\n",
    "\n",
    "X_train, X_test, y_train, y_test = train_test_split(X,y, test_size=0.33, random_state=102)\n",
    "\n",
    "le = LabelEncoder()\n",
    "\n",
    "y_train = le.fit_transform(y_train.astype(str))\n",
    "y_test = le.transform(y_test.astype(str))\n",
    "\n",
    "y_train = to_categorical(y_train)\n",
    "y_test = to_categorical(y_test)\n"
   ]
  },
  {
   "cell_type": "code",
   "execution_count": 22,
   "metadata": {},
   "outputs": [
    {
     "data": {
      "text/plain": [
       "54"
      ]
     },
     "execution_count": 22,
     "metadata": {},
     "output_type": "execute_result"
    }
   ],
   "source": [
    "X_train.shape[1]"
   ]
  },
  {
   "cell_type": "markdown",
   "metadata": {},
   "source": [
    "# Build and train model"
   ]
  },
  {
   "cell_type": "code",
   "execution_count": 25,
   "metadata": {},
   "outputs": [],
   "source": [
    "def create_model(X_train):\n",
    "    model = Sequential()\n",
    "    # Creating the input layer\n",
    "    input = InputLayer(input_shape=(X_train.shape[1],))\n",
    "    model.add(input)\n",
    "\n",
    "    # Hidden layer\n",
    "    model.add(Dense(256,activation='relu'))\n",
    "    model.add(Dense(64,activation='relu'))\n",
    "    model.add(Dense(64,activation='relu'))\n",
    "    model.add(Dense(32,activation='relu'))\n",
    "    model.add(Dense(32,activation='relu'))\n",
    "\n",
    "    #Output layer\n",
    "    model.add(Dense(7,activation='softmax'))\n",
    "\n",
    "    # Printing the model\n",
    "    print(model.summary())\n",
    "\n",
    "    opt = Adam(learning_rate=0.0005)\n",
    "    model.compile(loss='categorical_crossentropy', optimizer=opt, metrics = ['accuracy'])\n",
    "\n",
    "    return model\n",
    "\n"
   ]
  },
  {
   "cell_type": "code",
   "execution_count": 26,
   "metadata": {},
   "outputs": [
    {
     "name": "stdout",
     "output_type": "stream",
     "text": [
      "Model: \"sequential_8\"\n",
      "_________________________________________________________________\n",
      "Layer (type)                 Output Shape              Param #   \n",
      "=================================================================\n",
      "dense_35 (Dense)             (None, 256)               14080     \n",
      "_________________________________________________________________\n",
      "dense_36 (Dense)             (None, 64)                16448     \n",
      "_________________________________________________________________\n",
      "dense_37 (Dense)             (None, 64)                4160      \n",
      "_________________________________________________________________\n",
      "dense_38 (Dense)             (None, 32)                2080      \n",
      "_________________________________________________________________\n",
      "dense_39 (Dense)             (None, 32)                1056      \n",
      "_________________________________________________________________\n",
      "dense_40 (Dense)             (None, 7)                 231       \n",
      "=================================================================\n",
      "Total params: 38,055\n",
      "Trainable params: 38,055\n",
      "Non-trainable params: 0\n",
      "_________________________________________________________________\n",
      "None\n",
      "Epoch 1/100\n",
      "2725/2725 [==============================] - 8s 2ms/step - loss: 1.2116 - accuracy: 0.6105 - val_loss: 0.8929 - val_accuracy: 0.6004\n",
      "Epoch 2/100\n",
      "2725/2725 [==============================] - 6s 2ms/step - loss: 0.7335 - accuracy: 0.6823 - val_loss: 0.7022 - val_accuracy: 0.7005\n",
      "Epoch 3/100\n",
      "2725/2725 [==============================] - 6s 2ms/step - loss: 0.6866 - accuracy: 0.7045 - val_loss: 0.6692 - val_accuracy: 0.7197\n",
      "Epoch 4/100\n",
      "2725/2725 [==============================] - 6s 2ms/step - loss: 0.6521 - accuracy: 0.7199 - val_loss: 0.6284 - val_accuracy: 0.7274\n",
      "Epoch 5/100\n",
      "2725/2725 [==============================] - 6s 2ms/step - loss: 0.6232 - accuracy: 0.7321 - val_loss: 0.5972 - val_accuracy: 0.7477\n",
      "Epoch 6/100\n",
      "2725/2725 [==============================] - 7s 3ms/step - loss: 0.6036 - accuracy: 0.7406 - val_loss: 0.5661 - val_accuracy: 0.7625\n",
      "Epoch 7/100\n",
      "2725/2725 [==============================] - 8s 3ms/step - loss: 0.5859 - accuracy: 0.7474 - val_loss: 0.5724 - val_accuracy: 0.7542\n",
      "Epoch 8/100\n",
      "2725/2725 [==============================] - 8s 3ms/step - loss: 0.5670 - accuracy: 0.7559 - val_loss: 0.5582 - val_accuracy: 0.7569\n",
      "Epoch 9/100\n",
      "2725/2725 [==============================] - 7s 2ms/step - loss: 0.5523 - accuracy: 0.7635 - val_loss: 0.5603 - val_accuracy: 0.7558\n",
      "Epoch 10/100\n",
      "2725/2725 [==============================] - 6s 2ms/step - loss: 0.5385 - accuracy: 0.7699 - val_loss: 0.5240 - val_accuracy: 0.7800\n",
      "Epoch 11/100\n",
      "2725/2725 [==============================] - 6s 2ms/step - loss: 0.5248 - accuracy: 0.7748 - val_loss: 0.5473 - val_accuracy: 0.7739\n",
      "Epoch 12/100\n",
      "2725/2725 [==============================] - 6s 2ms/step - loss: 0.5135 - accuracy: 0.7807 - val_loss: 0.5034 - val_accuracy: 0.7870\n",
      "Epoch 13/100\n",
      "2725/2725 [==============================] - 8s 3ms/step - loss: 0.5037 - accuracy: 0.7852 - val_loss: 0.5001 - val_accuracy: 0.7842\n",
      "Epoch 14/100\n",
      "2725/2725 [==============================] - 8s 3ms/step - loss: 0.4936 - accuracy: 0.7904 - val_loss: 0.4992 - val_accuracy: 0.7856\n",
      "Epoch 15/100\n",
      "2725/2725 [==============================] - 6s 2ms/step - loss: 0.4853 - accuracy: 0.7942 - val_loss: 0.4680 - val_accuracy: 0.8009\n",
      "Epoch 16/100\n",
      "2725/2725 [==============================] - 6s 2ms/step - loss: 0.4796 - accuracy: 0.7960 - val_loss: 0.4681 - val_accuracy: 0.8041\n",
      "Epoch 17/100\n",
      "2725/2725 [==============================] - 7s 2ms/step - loss: 0.4699 - accuracy: 0.8012 - val_loss: 0.5047 - val_accuracy: 0.7822\n",
      "Epoch 18/100\n",
      "2725/2725 [==============================] - 7s 3ms/step - loss: 0.4633 - accuracy: 0.8034 - val_loss: 0.4728 - val_accuracy: 0.8006\n",
      "Epoch 19/100\n",
      "2725/2725 [==============================] - 6s 2ms/step - loss: 0.4556 - accuracy: 0.8073 - val_loss: 0.4368 - val_accuracy: 0.8174\n",
      "Epoch 20/100\n",
      "2725/2725 [==============================] - 6s 2ms/step - loss: 0.4505 - accuracy: 0.8089 - val_loss: 0.4423 - val_accuracy: 0.8147\n",
      "Epoch 21/100\n",
      "2725/2725 [==============================] - 8s 3ms/step - loss: 0.4437 - accuracy: 0.8125 - val_loss: 0.4441 - val_accuracy: 0.8106\n",
      "Epoch 00021: early stopping\n"
     ]
    }
   ],
   "source": [
    "model = create_model(X_train)\n",
    "es = EarlyStopping(monitor='accuracy', mode='min', verbose=1, patience=20)\n",
    "history = model.fit(X_train, y_train, epochs=100, batch_size=100, verbose = 1, validation_split=.3, callbacks=[es])"
   ]
  },
  {
   "cell_type": "markdown",
   "metadata": {},
   "source": [
    "# Classification report"
   ]
  },
  {
   "cell_type": "markdown",
   "metadata": {},
   "source": [
    "# Plots"
   ]
  },
  {
   "cell_type": "code",
   "execution_count": 27,
   "metadata": {},
   "outputs": [
    {
     "data": {
      "image/png": "[encoded data removed]",
      "text/plain": [
       "<Figure size 1080x720 with 2 Axes>"
      ]
     },
     "metadata": {
      "needs_background": "light"
     },
     "output_type": "display_data"
    }
   ],
   "source": [
    "acc = history.history['accuracy']\n",
    "val_acc = history.history['val_accuracy']\n",
    "loss = history.history['loss']\n",
    "val_loss = history.history['val_loss']\n",
    "\n",
    "fig = plt.figure(figsize=(15,10))\n",
    "ax2 = fig.add_subplot(2, 1, 2)\n",
    "ax2.plot(val_loss)\n",
    "ax2.plot(loss)\n",
    "ax2.set_title('Loss')\n",
    "ax2.set_xlabel('Epoch')\n",
    "ax2.legend(['Validation', 'Train'], loc='upper right')\n",
    "\n",
    "ax1 = fig.add_subplot(2, 1, 1)\n",
    "ax1.plot(val_acc)\n",
    "ax1.plot(acc)\n",
    "ax1.set_title('Accuracy')\n",
    "ax1.set_xlabel('Epoch')\n",
    "ax1.legend(['Validation', 'Train'], loc='upper right')\n",
    "\n",
    "plt.show()"
   ]
  }
 ],
 "metadata": {
  "interpreter": {
   "hash": "7812ea015bdcee6f23a998adcdd2ef97c151c0c241b7b7070987d9313e41299d"
  },
  "kernelspec": {
   "display_name": "Python 3.9.1 64-bit",
   "name": "python3"
  },
  "language_info": {
   "codemirror_mode": {
    "name": "ipython",
    "version": 3
   },
   "file_extension": ".py",
   "mimetype": "text/x-python",
   "name": "python",
   "nbconvert_exporter": "python",
   "pygments_lexer": "ipython3",
   "version": "3.9.1"
  }
 },
 "nbformat": 4,
 "nbformat_minor": 4
}